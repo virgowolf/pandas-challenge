# Dependencies and Setup
import pandas as pd
from pathlib import Path

# Files to Load
school_data_to_load = Path("Resources/schools_complete.csv")
student_data_to_load = Path("Resources/students_complete.csv")

# Read School and Student Data File and store into Pandas DataFrames
school_data = pd.read_csv(school_data_to_load)
student_data = pd.read_csv(student_data_to_load)

# Combine the data into a single dataset.
school_data_complete = pd.merge(student_data, school_data, how="left", on=["school_name", "school_name"])
school_data_complete.head()


# Calculate the total number of unique schools
total_unique_schools = school_data_complete['school_name'].nunique()
print(f'Total number of unique schools: {total_unique_schools}')


# Calculate the total number of students
student_count = school_data_complete ['Student ID'].nunique()
print(f'Total number of students: {student_count}')


# Create a DataFrame from school_data_complete
df = pd.DataFrame(school_data_complete)

# Calculate the total budget by summing the 'budget' column
total_budget = df['budget'].sum()

print(total_budget)


# Calculate the average (mean) math score
average_math_score = df['math_score'].mean()
print(average_math_score)


# Calculate the average (mean) reading score
average_reading_score = df ['reading_score'].mean()
print(average_reading_score)


# Calculate the percentage of students who passed math (math scores greather than or equal to 70)
passing_math_count = school_data_complete[(school_data_complete["math_score"] >= 70)].count()["Student ID"]
passing_math_percentage = passing_math_count / float(student_count) * 100
print(passing_math_percentage)


# Calculate the percentage of students who passed reading
passing_reading_count = school_data_complete [(school_data_complete["reading_score"] >= 70)].count()["Student ID"]
passing_reading_percentage = passing_reading_count/float(student_count) * 100
print(passing_reading_percentage)


# Use the following to calculate the percentage of students that passed math and reading
passing_math_reading_count = school_data_complete[
    (school_data_complete["math_score"] >= 70) & (school_data_complete["reading_score"] >= 70)
].count()["Student ID"]
overall_passing_rate = passing_math_reading_count /float(student_count)* 100
print(overall_passing_rate)


# District Summary: create a high-level snapshot of the district's key metrics in a DataFrame.
# Include the following: 
# Total number of unique schools
# Total students
# Total budget
# Average math score
# Average reading score
# % passing math (the percentage of students who passed math)
# % passing reading (the percentage of students who passed reading)
# % overall passing (the percentage of students who passed math AND reading)

# Create a DataFrame
district_summary = {"Total School Count":[total_unique_schools],"Total Students":[student_count],
                    "Total Budget":[total_budget],"Average Math Score": 
                    [average_math_score], "Average Reading Score":[average_reading_score], 
                    "Percentage of Students Proficient in Math":[passing_math_percentage],
                    "Percentage of Students Proficient in Reading": [passing_reading_percentage],
                    "Percentage of Students Meeting Proficiency in Math and Reading":[overall_passing_rate]}
district_summary_df = pd.DataFrame(district_summary)

# Display the DataFrame
district_summary_df


# Group by school_name to get the school types
school_types = school_data_complete.groupby("school_name")["type"].first().reset_index()
school_types = school_types.rename(columns={"type": "school_type"})  # Rename the column to "school_type"

# Merge the school types back to the original DataFrame based on school_name
school_data_with_types = pd.merge(school_data_complete, school_types, on="school_name")

# Display the school names and their corresponding types
print(school_data_with_types[["school_name", "school_type"]])


# Calculate the total student count per school from school_data_complete
student_count_per_school = school_data_complete.groupby("school_name").size()


# Calculate the total school budget per school
per_school_budget = school_data_complete.groupby("school_name")["budget"].sum()

# Calculate the per capita spending per school
per_school_capita = per_school_budget/student_count_per_school


# Calculate the average Math scores per school from school_data_complete. Use group_by with an aggregate function.
average_math_score_per_school = school_data_complete.groupby("school_name").mean(numeric_only=True)["math_score"]


# Calculate the average Reading scores per school
average_reading_score_per_school = school_data_complete.groupby("school_name").mean(numeric_only=True)["reading_score"]


# Calculate the number of students per school who are passing Math
# Filter the rows where math score is 70 or higher
passing_math = school_data_complete[school_data_complete["math_score"] >= 70]

# Group by school name and count the number of students
students_per_school_passing_math = passing_math.groupby("school_name")["Student ID"].count()

print(students_per_school_passing_math)


# Calculate the number of students per school who are passing Reading
# Filter the rows where Reading score is 70 or higher
passing_reading = school_data_complete[school_data_complete["reading_score"] >= 70]

# Group by school name and count the number of students
students_per_school_passing_reading = passing_reading.groupby("school_name")["Student ID"].count()


# Calculate the number of students per school that passed both math and reading with scores of 70 or higher
students_passing_math_and_reading = school_data_complete[
    (school_data_complete["reading_score"] >= 70) & (school_data_complete["math_score"] >= 70)
]
school_students_passing_math_and_reading = students_passing_math_and_reading.groupby(["school_name"]).size()


# Calculate the passing rates
per_school_passing_math = students_per_school_passing_math / student_count_per_school * 100
per_school_passing_reading = students_per_school_passing_reading / student_count_per_school * 100
overall_passing_rate = school_students_passing_math_and_reading / student_count_per_school * 100
print(overall_passing_rate)


# Create the per_school_summary dictionary
per_school_summary = {
    "School Type": school_types.set_index("school_name")["school_type"],
    "Total Students": student_count_per_school,
    "Total School Budget": per_school_budget,
    "Per Student Budget": per_school_capita,
    "Average Math Score": average_math_score_per_school,
    "Average Reading Score": average_reading_score_per_school,
    "Percent Passing Math": per_school_passing_math,
    "Percent Passing Reading": per_school_passing_reading,
    "Percent Overall Passing": overall_passing_rate
}
# Create the per_school_summary DataFrame
per_school_summary_df = pd.DataFrame(per_school_summary)

# Display the DataFrame
#per_school_summary_df


# Show highest performing schools: Sort the schools by `% Overall Passing` in descending order and display the top 5 rows.
per_school_summary_df.sort_values('Percent Overall Passing', ascending=False, inplace=True)
per_school_summary_df.head(5)

# Save the results in a DataFrame called "top_schools".
top_schools_df = per_school_summary_df.sort_values('Percent Overall Passing', ascending=False, inplace=True)


# Show lowest performing schools: Sort the schools by `% Overall Passing` in ascending order and display the top 5 rows.
per_school_summary_df.sort_values('Percent Overall Passing', inplace=True)
per_school_summary_df.head(5)

# Save the results in a DataFrame called "bottom_schools".
bottom_schools_df = per_school_summary_df.sort_values('Percent Overall Passing', inplace=True)


# Calculate Math Scores by Grade
# Separate the data by grade
ninth_graders = school_data_complete[school_data_complete["grade"] == "9th"]
tenth_graders = school_data_complete[school_data_complete["grade"] == "10th"]
eleventh_graders = school_data_complete[school_data_complete["grade"] == "11th"]
twelfth_graders = school_data_complete[school_data_complete["grade"] == "12th"]

# Group by `school_name` and take the mean of the `math_score` column for each grade
ninth_grade_math_scores = ninth_graders.groupby("school_name")["math_score"].mean()
tenth_grade_math_scores = tenth_graders.groupby("school_name")["math_score"].mean()
eleventh_grade_math_scores = eleventh_graders.groupby("school_name")["math_score"].mean()
twelfth_grade_math_scores = twelfth_graders.groupby("school_name")["math_score"].mean()

# Combine each of the scores above into a single DataFrame called `math_scores_by_grade`
math_scores_by_grade = {
    '9th Grade Math Average': ninth_grade_math_scores,
    '10th Grade Math Average': tenth_grade_math_scores,
    '11th Grade Math Average': eleventh_grade_math_scores,
    '12th Grade Math Average': twelfth_grade_math_scores
}

math_scores_by_grade_df = pd.DataFrame(math_scores_by_grade)

# Minor data wrangling
math_scores_by_grade_df.index.name = None

# Display the DataFrame
#print(math_scores_by_grade_df)


# Calculate Reading Scores by Grade

# Group by `school_name` and take the mean of the `reading_score` column for each grade
ninth_grade_reading_scores = ninth_graders.groupby("school_name")["reading_score"].mean()
tenth_grade_reading_scores = tenth_graders.groupby("school_name")["reading_score"].mean()
eleventh_grade_reading_scores = eleventh_graders.groupby("school_name")["reading_score"].mean()
twelfth_grade_reading_scores = twelfth_graders.groupby("school_name")["reading_score"].mean()

# Combine each of the scores above into a single DataFrame called `math_scores_by_grade`
math_scores_by_grade = {
    '9th Grade Reading Average': ninth_grade_reading_scores,
    '10th Grade Reading Average': tenth_grade_reading_scores,
    '11th Grade Reading Average': eleventh_grade_reading_scores,
    '12th Grade Reading Average': twelfth_grade_reading_scores
}

reading_scores_by_grade_df = pd.DataFrame(math_scores_by_grade)

# Minor data wrangling
reading_scores_by_grade_df.index.name = None

# Display the DataFrame
print(reading_scores_by_grade_df)


# Create a table that breaks down school performance based on average spending ranges (per student).
# Establish the bins
spending_bins = [0, 585, 630, 645, 680]
labels = ["<$585", "$585-630", "$630-645", "$645-680"]

# Create a copy of the school summary since it has the "Per Student Budget"
school_spending_df = per_school_summary.copy()

# Use `pd.cut` to categorize spending based on the bins.
school_spending_df["Spending Ranges (Per Student)"] = pd.cut(school_spending_df["Per Student Budget"], bins=spending_bins, labels=labels)

school_spending_df = pd.DataFrame(school_spending_df)

# Calculate mean scores per spending range. Modify groupby operations to explicitly set observed parameter.
spending_math_scores = school_spending_df.groupby(["Spending Ranges (Per Student)"], observed=False)["Average Math Score"].mean()
spending_reading_scores = school_spending_df.groupby(["Spending Ranges (Per Student)"], observed=False)["Average Reading Score"].mean()
spending_passing_math = school_spending_df.groupby(["Spending Ranges (Per Student)"], observed=False)["Percent Passing Math"].mean()
spending_passing_reading = school_spending_df.groupby(["Spending Ranges (Per Student)"], observed=False)["Percent Passing Reading"].mean()
overall_passing_spending = school_spending_df.groupby(["Spending Ranges (Per Student)"], observed=False)["Percent Overall Passing"].mean()

# Create a new DataFrame to store the calculated averages
spending_summary_df = pd.DataFrame({
    "Average Math Score": spending_math_scores,
    "Average Reading Score": spending_reading_scores,
    "% Passing Math": spending_passing_math,
    "% Passing Reading": spending_passing_reading,
    "% Overall Passing": overall_passing_spending
})

# Display the spending summary DataFrame
spending_summary_df


# Calculate Scores by School Size
# Establish the bins.
size_bins = [0, 1000, 2000, 5000]
labels = ["Small (<1000)", "Medium (1000-2000)", "Large (2000-5000)"]


# Categorize the spending based on the bins
# Use `pd.cut` on the "Total Students" column of the `per_school_summary` DataFrame.

per_school_summary["School Size"] =
per_school_summary


# Calculate averages for the desired columns.
size_math_scores = per_school_summary.groupby(["School Size"])["Average Math Score"].mean()
size_reading_scores = per_school_summary.groupby(["School Size"])["Average Reading Score"].mean()
size_passing_math = per_school_summary.groupby(["School Size"])["% Passing Math"].mean()
size_passing_reading = per_school_summary.groupby(["School Size"])["% Passing Reading"].mean()
size_overall_passing = per_school_summary.groupby(["School Size"])["% Overall Passing"].mean()


# Create a DataFrame called `size_summary` that breaks down school performance based on school size (small, medium, or large).
# Use the scores above to create a new DataFrame called `size_summary`
size_summary =

# Display results
size_summary


# Group the per_school_summary DataFrame by "School Type" and average the results.
average_math_score_by_type = per_school_summary.groupby(["School Type"])["Average Math Score"].mean()
average_reading_score_by_type = per_school_summary.groupby(["School Type"])["Average Reading Score"].mean()
average_percent_passing_math_by_type = per_school_summary.groupby(["School Type"])["% Passing Math"].mean()
average_percent_passing_reading_by_type = per_school_summary.groupby(["School Type"])["% Passing Reading"].mean()
average_percent_overall_passing_by_type = per_school_summary.groupby(["School Type"])["% Overall Passing"].mean()


# Assemble the new data by type into a DataFrame called `type_summary`
type_summary =

# Display results
type_summary


# # Apply formatting using map function? Do this later
# district_summary["Total Students"] = district_summary["Total Students"].map("{:,}".format)
# district_summary["Total Budget"] = district_summary["Total Budget"].map("${:,.2f}".format)
# district_summary["Average Math Score"] = (district_summary["Average Math Score"]*100).map("{:.1f}%".format)
# district_summary["Average Reading Score"] = (district_summary["Average Reading Score"]*100).map("{:.1f}%".format)

# # Display the DataFrame
# print(district_summary)
