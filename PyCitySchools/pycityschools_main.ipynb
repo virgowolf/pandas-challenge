{
 "cells": [
  {
   "cell_type": "code",
   "execution_count": 55,
   "id": "9b7caf37-7e1c-4790-8e47-890f18d30aeb",
   "metadata": {},
   "outputs": [
    {
     "data": {
      "text/html": [
       "<div>\n",
       "<style scoped>\n",
       "    .dataframe tbody tr th:only-of-type {\n",
       "        vertical-align: middle;\n",
       "    }\n",
       "\n",
       "    .dataframe tbody tr th {\n",
       "        vertical-align: top;\n",
       "    }\n",
       "\n",
       "    .dataframe thead th {\n",
       "        text-align: right;\n",
       "    }\n",
       "</style>\n",
       "<table border=\"1\" class=\"dataframe\">\n",
       "  <thead>\n",
       "    <tr style=\"text-align: right;\">\n",
       "      <th></th>\n",
       "      <th>Student ID</th>\n",
       "      <th>student_name</th>\n",
       "      <th>gender</th>\n",
       "      <th>grade</th>\n",
       "      <th>school_name</th>\n",
       "      <th>reading_score</th>\n",
       "      <th>math_score</th>\n",
       "      <th>School ID</th>\n",
       "      <th>type</th>\n",
       "      <th>size</th>\n",
       "      <th>budget</th>\n",
       "    </tr>\n",
       "  </thead>\n",
       "  <tbody>\n",
       "    <tr>\n",
       "      <th>0</th>\n",
       "      <td>0</td>\n",
       "      <td>Paul Bradley</td>\n",
       "      <td>M</td>\n",
       "      <td>9th</td>\n",
       "      <td>Huang High School</td>\n",
       "      <td>66</td>\n",
       "      <td>79</td>\n",
       "      <td>0</td>\n",
       "      <td>District</td>\n",
       "      <td>2917</td>\n",
       "      <td>1910635</td>\n",
       "    </tr>\n",
       "    <tr>\n",
       "      <th>1</th>\n",
       "      <td>1</td>\n",
       "      <td>Victor Smith</td>\n",
       "      <td>M</td>\n",
       "      <td>12th</td>\n",
       "      <td>Huang High School</td>\n",
       "      <td>94</td>\n",
       "      <td>61</td>\n",
       "      <td>0</td>\n",
       "      <td>District</td>\n",
       "      <td>2917</td>\n",
       "      <td>1910635</td>\n",
       "    </tr>\n",
       "    <tr>\n",
       "      <th>2</th>\n",
       "      <td>2</td>\n",
       "      <td>Kevin Rodriguez</td>\n",
       "      <td>M</td>\n",
       "      <td>12th</td>\n",
       "      <td>Huang High School</td>\n",
       "      <td>90</td>\n",
       "      <td>60</td>\n",
       "      <td>0</td>\n",
       "      <td>District</td>\n",
       "      <td>2917</td>\n",
       "      <td>1910635</td>\n",
       "    </tr>\n",
       "    <tr>\n",
       "      <th>3</th>\n",
       "      <td>3</td>\n",
       "      <td>Dr. Richard Scott</td>\n",
       "      <td>M</td>\n",
       "      <td>12th</td>\n",
       "      <td>Huang High School</td>\n",
       "      <td>67</td>\n",
       "      <td>58</td>\n",
       "      <td>0</td>\n",
       "      <td>District</td>\n",
       "      <td>2917</td>\n",
       "      <td>1910635</td>\n",
       "    </tr>\n",
       "    <tr>\n",
       "      <th>4</th>\n",
       "      <td>4</td>\n",
       "      <td>Bonnie Ray</td>\n",
       "      <td>F</td>\n",
       "      <td>9th</td>\n",
       "      <td>Huang High School</td>\n",
       "      <td>97</td>\n",
       "      <td>84</td>\n",
       "      <td>0</td>\n",
       "      <td>District</td>\n",
       "      <td>2917</td>\n",
       "      <td>1910635</td>\n",
       "    </tr>\n",
       "  </tbody>\n",
       "</table>\n",
       "</div>"
      ],
      "text/plain": [
       "   Student ID       student_name gender grade        school_name  \\\n",
       "0           0       Paul Bradley      M   9th  Huang High School   \n",
       "1           1       Victor Smith      M  12th  Huang High School   \n",
       "2           2    Kevin Rodriguez      M  12th  Huang High School   \n",
       "3           3  Dr. Richard Scott      M  12th  Huang High School   \n",
       "4           4         Bonnie Ray      F   9th  Huang High School   \n",
       "\n",
       "   reading_score  math_score  School ID      type  size   budget  \n",
       "0             66          79          0  District  2917  1910635  \n",
       "1             94          61          0  District  2917  1910635  \n",
       "2             90          60          0  District  2917  1910635  \n",
       "3             67          58          0  District  2917  1910635  \n",
       "4             97          84          0  District  2917  1910635  "
      ]
     },
     "execution_count": 55,
     "metadata": {},
     "output_type": "execute_result"
    }
   ],
   "source": [
    "# Dependencies and Setup\n",
    "import pandas as pd\n",
    "from pathlib import Path\n",
    "\n",
    "# Files to Load\n",
    "school_data_to_load = Path(\"Resources/schools_complete.csv\")\n",
    "student_data_to_load = Path(\"Resources/students_complete.csv\")\n",
    "\n",
    "# Read School and Student Data File and store into Pandas DataFrames\n",
    "school_data = pd.read_csv(school_data_to_load)\n",
    "student_data = pd.read_csv(student_data_to_load)\n",
    "\n",
    "# Combine the data into a single dataset.\n",
    "school_data_complete = pd.merge(student_data, school_data, how=\"left\", on=[\"school_name\", \"school_name\"])\n",
    "school_data_complete.head()"
   ]
  },
  {
   "cell_type": "code",
   "execution_count": 56,
   "id": "704c5959-4d15-46ff-9762-e5fc6060995b",
   "metadata": {},
   "outputs": [
    {
     "name": "stdout",
     "output_type": "stream",
     "text": [
      "Total number of unique schools: 15\n"
     ]
    }
   ],
   "source": [
    "# Calculate the total number of unique schools\n",
    "total_unique_schools = school_data_complete['school_name'].nunique()\n",
    "print(f'Total number of unique schools: {total_unique_schools}')"
   ]
  },
  {
   "cell_type": "code",
   "execution_count": 57,
   "id": "3776e56f-6fc9-4291-b6a8-3d54f80e3c4f",
   "metadata": {},
   "outputs": [
    {
     "name": "stdout",
     "output_type": "stream",
     "text": [
      "Total number of students: 39170\n"
     ]
    }
   ],
   "source": [
    "# Calculate the total number of students\n",
    "student_count = school_data_complete ['Student ID'].nunique()\n",
    "print(f'Total number of students: {student_count}')"
   ]
  },
  {
   "cell_type": "code",
   "execution_count": 58,
   "id": "fc3b2aef-54e6-45f8-bfa7-9a72eb9acca8",
   "metadata": {},
   "outputs": [
    {
     "name": "stdout",
     "output_type": "stream",
     "text": [
      "82932329558\n"
     ]
    }
   ],
   "source": [
    "# Create a DataFrame from school_data_complete\n",
    "df = pd.DataFrame(school_data_complete)\n",
    "\n",
    "# Calculate the total budget by summing the 'budget' column\n",
    "total_budget = df['budget'].sum()\n",
    "\n",
    "print(total_budget)"
   ]
  },
  {
   "cell_type": "code",
   "execution_count": 59,
   "id": "5f514fab-ab6f-484a-87e7-5d800bfbb0f3",
   "metadata": {},
   "outputs": [
    {
     "name": "stdout",
     "output_type": "stream",
     "text": [
      "78.98537145774827\n"
     ]
    }
   ],
   "source": [
    "# Calculate the average (mean) math score\n",
    "average_math_score = df['math_score'].mean()\n",
    "print(average_math_score)"
   ]
  },
  {
   "cell_type": "code",
   "execution_count": 60,
   "id": "261b639d-d275-449d-a9aa-80ca11cca09c",
   "metadata": {},
   "outputs": [
    {
     "name": "stdout",
     "output_type": "stream",
     "text": [
      "81.87784018381414\n"
     ]
    }
   ],
   "source": [
    "# Calculate the average (mean) reading score\n",
    "average_reading_score = df ['reading_score'].mean()\n",
    "print(average_reading_score)"
   ]
  },
  {
   "cell_type": "code",
   "execution_count": 61,
   "id": "1b4f576a-23f8-46b0-8b53-139114f0dd41",
   "metadata": {},
   "outputs": [
    {
     "name": "stdout",
     "output_type": "stream",
     "text": [
      "74.9808526933878\n"
     ]
    }
   ],
   "source": [
    "# Calculate the percentage of students who passed math (math scores greather than or equal to 70)\n",
    "passing_math_count = school_data_complete[(school_data_complete[\"math_score\"] >= 70)].count()[\"Student ID\"]\n",
    "passing_math_percentage = passing_math_count / float(student_count) * 100\n",
    "print(passing_math_percentage)"
   ]
  },
  {
   "cell_type": "code",
   "execution_count": 62,
   "id": "bc2f6f9a-ec9a-45ff-a6ac-ecd8cf55e04c",
   "metadata": {},
   "outputs": [
    {
     "name": "stdout",
     "output_type": "stream",
     "text": [
      "85.80546336482001\n"
     ]
    }
   ],
   "source": [
    "# Calculate the percentage of students who passed reading\n",
    "passing_reading_count = school_data_complete [(school_data_complete[\"reading_score\"] >= 70)].count()[\"Student ID\"]\n",
    "passing_reading_percentage = passing_reading_count/float(student_count) * 100\n",
    "print(passing_reading_percentage)"
   ]
  },
  {
   "cell_type": "code",
   "execution_count": 63,
   "id": "fe12bcc0-7dca-4142-8ca3-c46116503d7e",
   "metadata": {},
   "outputs": [
    {
     "name": "stdout",
     "output_type": "stream",
     "text": [
      "65.17232575950983\n"
     ]
    }
   ],
   "source": [
    "# Use the following to calculate the percentage of students that passed math and reading\n",
    "passing_math_reading_count = school_data_complete[\n",
    "    (school_data_complete[\"math_score\"] >= 70) & (school_data_complete[\"reading_score\"] >= 70)\n",
    "].count()[\"Student ID\"]\n",
    "overall_passing_rate = passing_math_reading_count /float(student_count)* 100\n",
    "print(overall_passing_rate)"
   ]
  },
  {
   "cell_type": "code",
   "execution_count": 64,
   "id": "53d2fa7e-8da2-4578-b62d-ecbd91f666c1",
   "metadata": {},
   "outputs": [
    {
     "data": {
      "text/html": [
       "<div>\n",
       "<style scoped>\n",
       "    .dataframe tbody tr th:only-of-type {\n",
       "        vertical-align: middle;\n",
       "    }\n",
       "\n",
       "    .dataframe tbody tr th {\n",
       "        vertical-align: top;\n",
       "    }\n",
       "\n",
       "    .dataframe thead th {\n",
       "        text-align: right;\n",
       "    }\n",
       "</style>\n",
       "<table border=\"1\" class=\"dataframe\">\n",
       "  <thead>\n",
       "    <tr style=\"text-align: right;\">\n",
       "      <th></th>\n",
       "      <th>Total School Count</th>\n",
       "      <th>Total Students</th>\n",
       "      <th>Total Budget</th>\n",
       "      <th>Average Math Score</th>\n",
       "      <th>Average Reading Score</th>\n",
       "      <th>Percentage of Students Proficient in Math</th>\n",
       "      <th>Percentage of Students Proficient in Reading</th>\n",
       "      <th>Percentage of Students Meeting Proficiency in Math and Reading</th>\n",
       "    </tr>\n",
       "  </thead>\n",
       "  <tbody>\n",
       "    <tr>\n",
       "      <th>0</th>\n",
       "      <td>15</td>\n",
       "      <td>39170</td>\n",
       "      <td>82932329558</td>\n",
       "      <td>78.985371</td>\n",
       "      <td>81.87784</td>\n",
       "      <td>74.980853</td>\n",
       "      <td>85.805463</td>\n",
       "      <td>65.172326</td>\n",
       "    </tr>\n",
       "  </tbody>\n",
       "</table>\n",
       "</div>"
      ],
      "text/plain": [
       "   Total School Count  Total Students  Total Budget  Average Math Score  \\\n",
       "0                  15           39170   82932329558           78.985371   \n",
       "\n",
       "   Average Reading Score  Percentage of Students Proficient in Math  \\\n",
       "0               81.87784                                  74.980853   \n",
       "\n",
       "   Percentage of Students Proficient in Reading  \\\n",
       "0                                     85.805463   \n",
       "\n",
       "   Percentage of Students Meeting Proficiency in Math and Reading  \n",
       "0                                          65.172326               "
      ]
     },
     "execution_count": 64,
     "metadata": {},
     "output_type": "execute_result"
    }
   ],
   "source": [
    "# District Summary: create a high-level snapshot of the district's key metrics in a DataFrame.\n",
    "# Include the following: \n",
    "# Total number of unique schools\n",
    "# Total students\n",
    "# Total budget\n",
    "# Average math score\n",
    "# Average reading score\n",
    "# % passing math (the percentage of students who passed math)\n",
    "# % passing reading (the percentage of students who passed reading)\n",
    "# % overall passing (the percentage of students who passed math AND reading)\n",
    "\n",
    "# Create a DataFrame\n",
    "district_summary = {\"Total School Count\":[total_unique_schools],\"Total Students\":[student_count],\n",
    "                    \"Total Budget\":[total_budget],\"Average Math Score\": \n",
    "                    [average_math_score], \"Average Reading Score\":[average_reading_score], \n",
    "                    \"Percentage of Students Proficient in Math\":[passing_math_percentage],\n",
    "                    \"Percentage of Students Proficient in Reading\": [passing_reading_percentage],\n",
    "                    \"Percentage of Students Meeting Proficiency in Math and Reading\":[overall_passing_rate]}\n",
    "district_summary_df = pd.DataFrame(district_summary)\n",
    "\n",
    "# Display the DataFrame\n",
    "district_summary_df"
   ]
  },
  {
   "cell_type": "code",
   "execution_count": 65,
   "id": "d36fccc6-efde-4ca4-b0e4-8072b5a2e4d1",
   "metadata": {},
   "outputs": [
    {
     "name": "stdout",
     "output_type": "stream",
     "text": [
      "              school_name school_type\n",
      "0       Huang High School    District\n",
      "1       Huang High School    District\n",
      "2       Huang High School    District\n",
      "3       Huang High School    District\n",
      "4       Huang High School    District\n",
      "...                   ...         ...\n",
      "39165  Thomas High School     Charter\n",
      "39166  Thomas High School     Charter\n",
      "39167  Thomas High School     Charter\n",
      "39168  Thomas High School     Charter\n",
      "39169  Thomas High School     Charter\n",
      "\n",
      "[39170 rows x 2 columns]\n"
     ]
    }
   ],
   "source": [
    "# Group by school_name to get the school types\n",
    "school_types = school_data_complete.groupby(\"school_name\")[\"type\"].first().reset_index()\n",
    "school_types = school_types.rename(columns={\"type\": \"school_type\"})  # Rename the column to \"school_type\"\n",
    "\n",
    "# Merge the school types back to the original DataFrame based on school_name\n",
    "school_data_with_types = pd.merge(school_data_complete, school_types, on=\"school_name\")\n",
    "\n",
    "# Display the school names and their corresponding types\n",
    "print(school_data_with_types[[\"school_name\", \"school_type\"]])"
   ]
  },
  {
   "cell_type": "code",
   "execution_count": 66,
   "id": "9fcd5b78-befa-476f-b839-a917aea4cabd",
   "metadata": {},
   "outputs": [],
   "source": [
    "# Calculate the total student count per school from school_data_complete\n",
    "student_count_per_school = school_data_complete.groupby(\"school_name\").size()"
   ]
  },
  {
   "cell_type": "code",
   "execution_count": 67,
   "id": "1e315a47-4819-461e-9624-213e31c25761",
   "metadata": {},
   "outputs": [],
   "source": [
    "# Calculate the total school budget per school\n",
    "per_school_budget = school_data_complete.groupby(\"school_name\")[\"budget\"].sum()\n",
    "\n",
    "# Calculate the per capita spending per school\n",
    "per_school_capita = per_school_budget/student_count_per_school"
   ]
  },
  {
   "cell_type": "code",
   "execution_count": 68,
   "id": "ee68f121-ce36-4416-a3cf-24ff0ce8b3f8",
   "metadata": {},
   "outputs": [],
   "source": [
    "# Calculate the average Math scores per school from school_data_complete. Use group_by with an aggregate function.\n",
    "average_math_score_per_school = school_data_complete.groupby(\"school_name\").mean(numeric_only=True)[\"math_score\"]"
   ]
  },
  {
   "cell_type": "code",
   "execution_count": 69,
   "id": "e1b793e9-a788-45e7-befe-d047e927cd0f",
   "metadata": {},
   "outputs": [],
   "source": [
    "# Calculate the average Reading scores per school\n",
    "average_reading_score_per_school = school_data_complete.groupby(\"school_name\").mean(numeric_only=True)[\"reading_score\"]"
   ]
  },
  {
   "cell_type": "code",
   "execution_count": 70,
   "id": "d4b80f00-4c0c-4a71-867d-85bfc51e67f0",
   "metadata": {},
   "outputs": [
    {
     "name": "stdout",
     "output_type": "stream",
     "text": [
      "school_name\n",
      "Bailey High School       3318\n",
      "Cabrera High School      1749\n",
      "Figueroa High School     1946\n",
      "Ford High School         1871\n",
      "Griffin High School      1371\n",
      "Hernandez High School    3094\n",
      "Holden High School        395\n",
      "Huang High School        1916\n",
      "Johnson High School      3145\n",
      "Pena High School          910\n",
      "Rodriguez High School    2654\n",
      "Shelton High School      1653\n",
      "Thomas High School       1525\n",
      "Wilson High School       2143\n",
      "Wright High School       1680\n",
      "Name: Student ID, dtype: int64\n"
     ]
    }
   ],
   "source": [
    "# Calculate the number of students per school who are passing Math\n",
    "# Filter the rows where math score is 70 or higher\n",
    "passing_math = school_data_complete[school_data_complete[\"math_score\"] >= 70]\n",
    "\n",
    "# Group by school name and count the number of students\n",
    "students_per_school_passing_math = passing_math.groupby(\"school_name\")[\"Student ID\"].count()\n",
    "\n",
    "print(students_per_school_passing_math)"
   ]
  },
  {
   "cell_type": "code",
   "execution_count": 71,
   "id": "c74066c9-ce6b-4348-864e-0431e10f9471",
   "metadata": {},
   "outputs": [],
   "source": [
    "# Calculate the number of students per school who are passing Reading\n",
    "# Filter the rows where Reading score is 70 or higher\n",
    "passing_reading = school_data_complete[school_data_complete[\"reading_score\"] >= 70]\n",
    "\n",
    "# Group by school name and count the number of students\n",
    "students_per_school_passing_reading = passing_reading.groupby(\"school_name\")[\"Student ID\"].count()"
   ]
  },
  {
   "cell_type": "code",
   "execution_count": 72,
   "id": "cc5f33e5-3a7d-48b3-9f59-5d080a6b1677",
   "metadata": {},
   "outputs": [],
   "source": [
    "# Calculate the number of students per school that passed both math and reading with scores of 70 or higher\n",
    "students_passing_math_and_reading = school_data_complete[\n",
    "    (school_data_complete[\"reading_score\"] >= 70) & (school_data_complete[\"math_score\"] >= 70)\n",
    "]\n",
    "school_students_passing_math_and_reading = students_passing_math_and_reading.groupby([\"school_name\"]).size()"
   ]
  },
  {
   "cell_type": "code",
   "execution_count": 73,
   "id": "2183bde5-d134-4baf-9d15-57494428d5e3",
   "metadata": {},
   "outputs": [
    {
     "name": "stdout",
     "output_type": "stream",
     "text": [
      "school_name\n",
      "Bailey High School       54.642283\n",
      "Cabrera High School      91.334769\n",
      "Figueroa High School     53.204476\n",
      "Ford High School         54.289887\n",
      "Griffin High School      90.599455\n",
      "Hernandez High School    53.527508\n",
      "Holden High School       89.227166\n",
      "Huang High School        53.513884\n",
      "Johnson High School      53.539172\n",
      "Pena High School         90.540541\n",
      "Rodriguez High School    52.988247\n",
      "Shelton High School      89.892107\n",
      "Thomas High School       90.948012\n",
      "Wilson High School       90.582567\n",
      "Wright High School       90.333333\n",
      "dtype: float64\n"
     ]
    }
   ],
   "source": [
    "# Calculate the passing rates\n",
    "per_school_passing_math = students_per_school_passing_math / student_count_per_school * 100\n",
    "per_school_passing_reading = students_per_school_passing_reading / student_count_per_school * 100\n",
    "overall_passing_rate = school_students_passing_math_and_reading / student_count_per_school * 100\n",
    "print(overall_passing_rate)"
   ]
  },
  {
   "cell_type": "code",
   "execution_count": 74,
   "id": "0b826609-1ab8-4c81-8f39-758cc98eea28",
   "metadata": {},
   "outputs": [],
   "source": [
    "# Create the per_school_summary dictionary\n",
    "per_school_summary = {\n",
    "    \"School Type\": school_types.set_index(\"school_name\")[\"school_type\"],\n",
    "    \"Total Students\": student_count_per_school,\n",
    "    \"Total School Budget\": per_school_budget,\n",
    "    \"Per Student Budget\": per_school_capita,\n",
    "    \"Average Math Score\": average_math_score_per_school,\n",
    "    \"Average Reading Score\": average_reading_score_per_school,\n",
    "    \"Percent Passing Math\": per_school_passing_math,\n",
    "    \"Percent Passing Reading\": per_school_passing_reading,\n",
    "    \"Percent Overall Passing\": overall_passing_rate\n",
    "}\n",
    "# Create the per_school_summary DataFrame\n",
    "per_school_summary_df = pd.DataFrame(per_school_summary)\n",
    "\n",
    "# Display the DataFrame\n",
    "#per_school_summary_df"
   ]
  },
  {
   "cell_type": "code",
   "execution_count": 75,
   "id": "b218f24f-e4c5-495c-8377-f93e1c3c9387",
   "metadata": {},
   "outputs": [],
   "source": [
    "# Show highest performing schools: Sort the schools by `% Overall Passing` in descending order and display the top 5 rows.\n",
    "per_school_summary_df.sort_values('Percent Overall Passing', ascending=False, inplace=True)\n",
    "per_school_summary_df.head(5)\n",
    "\n",
    "# Save the results in a DataFrame called \"top_schools\".\n",
    "top_schools_df = per_school_summary_df.sort_values('Percent Overall Passing', ascending=False, inplace=True)"
   ]
  },
  {
   "cell_type": "code",
   "execution_count": 76,
   "id": "5fe6a9e9-2528-48c2-9051-23be3141dcd2",
   "metadata": {},
   "outputs": [],
   "source": [
    "# Show lowest performing schools: Sort the schools by `% Overall Passing` in ascending order and display the top 5 rows.\n",
    "per_school_summary_df.sort_values('Percent Overall Passing', inplace=True)\n",
    "per_school_summary_df.head(5)\n",
    "\n",
    "# Save the results in a DataFrame called \"bottom_schools\".\n",
    "bottom_schools_df = per_school_summary_df.sort_values('Percent Overall Passing', inplace=True)"
   ]
  },
  {
   "cell_type": "code",
   "execution_count": 77,
   "id": "6c0d06c5-dc54-4a48-ad0e-5be6b7f7c54d",
   "metadata": {},
   "outputs": [],
   "source": [
    "# Calculate Math Scores by Grade\n",
    "# Separate the data by grade\n",
    "ninth_graders = school_data_complete[school_data_complete[\"grade\"] == \"9th\"]\n",
    "tenth_graders = school_data_complete[school_data_complete[\"grade\"] == \"10th\"]\n",
    "eleventh_graders = school_data_complete[school_data_complete[\"grade\"] == \"11th\"]\n",
    "twelfth_graders = school_data_complete[school_data_complete[\"grade\"] == \"12th\"]\n",
    "\n",
    "# Group by `school_name` and take the mean of the `math_score` column for each grade\n",
    "ninth_grade_math_scores = ninth_graders.groupby(\"school_name\")[\"math_score\"].mean()\n",
    "tenth_grade_math_scores = tenth_graders.groupby(\"school_name\")[\"math_score\"].mean()\n",
    "eleventh_grade_math_scores = eleventh_graders.groupby(\"school_name\")[\"math_score\"].mean()\n",
    "twelfth_grade_math_scores = twelfth_graders.groupby(\"school_name\")[\"math_score\"].mean()\n",
    "\n",
    "# Combine each of the scores above into a single DataFrame called `math_scores_by_grade`\n",
    "math_scores_by_grade = {\n",
    "    '9th Grade Math Average': ninth_grade_math_scores,\n",
    "    '10th Grade Math Average': tenth_grade_math_scores,\n",
    "    '11th Grade Math Average': eleventh_grade_math_scores,\n",
    "    '12th Grade Math Average': twelfth_grade_math_scores\n",
    "}\n",
    "\n",
    "math_scores_by_grade_df = pd.DataFrame(math_scores_by_grade)\n",
    "\n",
    "# Minor data wrangling\n",
    "math_scores_by_grade_df.index.name = None\n",
    "\n",
    "# Display the DataFrame\n",
    "#print(math_scores_by_grade_df)"
   ]
  },
  {
   "cell_type": "code",
   "execution_count": 78,
   "id": "4fb3a708-be77-45c0-a942-780b11c131b1",
   "metadata": {},
   "outputs": [
    {
     "name": "stdout",
     "output_type": "stream",
     "text": [
      "                       9th Grade Reading Average  10th Grade Reading Average  \\\n",
      "Bailey High School                     81.303155                   80.907183   \n",
      "Cabrera High School                    83.676136                   84.253219   \n",
      "Figueroa High School                   81.198598                   81.408912   \n",
      "Ford High School                       80.632653                   81.262712   \n",
      "Griffin High School                    83.369193                   83.706897   \n",
      "Hernandez High School                  80.866860                   80.660147   \n",
      "Holden High School                     83.677165                   83.324561   \n",
      "Huang High School                      81.290284                   81.512386   \n",
      "Johnson High School                    81.260714                   80.773431   \n",
      "Pena High School                       83.807273                   83.612000   \n",
      "Rodriguez High School                  80.993127                   80.629808   \n",
      "Shelton High School                    84.122642                   83.441964   \n",
      "Thomas High School                     83.728850                   84.254157   \n",
      "Wilson High School                     83.939778                   84.021452   \n",
      "Wright High School                     83.833333                   83.812757   \n",
      "\n",
      "                       11th Grade Reading Average  12th Grade Reading Average  \n",
      "Bailey High School                      80.945643                   80.912451  \n",
      "Cabrera High School                     83.788382                   84.287958  \n",
      "Figueroa High School                    80.640339                   81.384863  \n",
      "Ford High School                        80.403642                   80.662338  \n",
      "Griffin High School                     84.288089                   84.013699  \n",
      "Hernandez High School                   81.396140                   80.857143  \n",
      "Holden High School                      83.815534                   84.698795  \n",
      "Huang High School                       81.417476                   80.305983  \n",
      "Johnson High School                     80.616027                   81.227564  \n",
      "Pena High School                        84.335938                   84.591160  \n",
      "Rodriguez High School                   80.864811                   80.376426  \n",
      "Shelton High School                     84.373786                   82.781671  \n",
      "Thomas High School                      83.585542                   83.831361  \n",
      "Wilson High School                      83.764608                   84.317673  \n",
      "Wright High School                      84.156322                   84.073171  \n"
     ]
    }
   ],
   "source": [
    "# Calculate Reading Scores by Grade\n",
    "\n",
    "# Group by `school_name` and take the mean of the `reading_score` column for each grade\n",
    "ninth_grade_reading_scores = ninth_graders.groupby(\"school_name\")[\"reading_score\"].mean()\n",
    "tenth_grade_reading_scores = tenth_graders.groupby(\"school_name\")[\"reading_score\"].mean()\n",
    "eleventh_grade_reading_scores = eleventh_graders.groupby(\"school_name\")[\"reading_score\"].mean()\n",
    "twelfth_grade_reading_scores = twelfth_graders.groupby(\"school_name\")[\"reading_score\"].mean()\n",
    "\n",
    "# Combine each of the scores above into a single DataFrame called `math_scores_by_grade`\n",
    "math_scores_by_grade = {\n",
    "    '9th Grade Reading Average': ninth_grade_reading_scores,\n",
    "    '10th Grade Reading Average': tenth_grade_reading_scores,\n",
    "    '11th Grade Reading Average': eleventh_grade_reading_scores,\n",
    "    '12th Grade Reading Average': twelfth_grade_reading_scores\n",
    "}\n",
    "\n",
    "reading_scores_by_grade_df = pd.DataFrame(math_scores_by_grade)\n",
    "\n",
    "# Minor data wrangling\n",
    "reading_scores_by_grade_df.index.name = None\n",
    "\n",
    "# Display the DataFrame\n",
    "print(reading_scores_by_grade_df)"
   ]
  },
  {
   "cell_type": "code",
   "execution_count": 79,
   "id": "e1f43db0-0c28-4eb3-80aa-b0b9f49e68f6",
   "metadata": {},
   "outputs": [
    {
     "data": {
      "text/html": [
       "<div>\n",
       "<style scoped>\n",
       "    .dataframe tbody tr th:only-of-type {\n",
       "        vertical-align: middle;\n",
       "    }\n",
       "\n",
       "    .dataframe tbody tr th {\n",
       "        vertical-align: top;\n",
       "    }\n",
       "\n",
       "    .dataframe thead th {\n",
       "        text-align: right;\n",
       "    }\n",
       "</style>\n",
       "<table border=\"1\" class=\"dataframe\">\n",
       "  <thead>\n",
       "    <tr style=\"text-align: right;\">\n",
       "      <th></th>\n",
       "      <th>Average Math Score</th>\n",
       "      <th>Average Reading Score</th>\n",
       "      <th>% Passing Math</th>\n",
       "      <th>% Passing Reading</th>\n",
       "      <th>% Overall Passing</th>\n",
       "    </tr>\n",
       "    <tr>\n",
       "      <th>Spending Ranges (Per Student)</th>\n",
       "      <th></th>\n",
       "      <th></th>\n",
       "      <th></th>\n",
       "      <th></th>\n",
       "      <th></th>\n",
       "    </tr>\n",
       "  </thead>\n",
       "  <tbody>\n",
       "    <tr>\n",
       "      <th>&lt;$585</th>\n",
       "      <td>NaN</td>\n",
       "      <td>NaN</td>\n",
       "      <td>NaN</td>\n",
       "      <td>NaN</td>\n",
       "      <td>NaN</td>\n",
       "    </tr>\n",
       "    <tr>\n",
       "      <th>$585-630</th>\n",
       "      <td>NaN</td>\n",
       "      <td>NaN</td>\n",
       "      <td>NaN</td>\n",
       "      <td>NaN</td>\n",
       "      <td>NaN</td>\n",
       "    </tr>\n",
       "    <tr>\n",
       "      <th>$630-645</th>\n",
       "      <td>NaN</td>\n",
       "      <td>NaN</td>\n",
       "      <td>NaN</td>\n",
       "      <td>NaN</td>\n",
       "      <td>NaN</td>\n",
       "    </tr>\n",
       "    <tr>\n",
       "      <th>$645-680</th>\n",
       "      <td>NaN</td>\n",
       "      <td>NaN</td>\n",
       "      <td>NaN</td>\n",
       "      <td>NaN</td>\n",
       "      <td>NaN</td>\n",
       "    </tr>\n",
       "  </tbody>\n",
       "</table>\n",
       "</div>"
      ],
      "text/plain": [
       "                               Average Math Score  Average Reading Score  \\\n",
       "Spending Ranges (Per Student)                                              \n",
       "<$585                                         NaN                    NaN   \n",
       "$585-630                                      NaN                    NaN   \n",
       "$630-645                                      NaN                    NaN   \n",
       "$645-680                                      NaN                    NaN   \n",
       "\n",
       "                               % Passing Math  % Passing Reading  \\\n",
       "Spending Ranges (Per Student)                                      \n",
       "<$585                                     NaN                NaN   \n",
       "$585-630                                  NaN                NaN   \n",
       "$630-645                                  NaN                NaN   \n",
       "$645-680                                  NaN                NaN   \n",
       "\n",
       "                               % Overall Passing  \n",
       "Spending Ranges (Per Student)                     \n",
       "<$585                                        NaN  \n",
       "$585-630                                     NaN  \n",
       "$630-645                                     NaN  \n",
       "$645-680                                     NaN  "
      ]
     },
     "execution_count": 79,
     "metadata": {},
     "output_type": "execute_result"
    }
   ],
   "source": [
    "# Create a table that breaks down school performance based on average spending ranges (per student).\n",
    "# Establish the bins\n",
    "spending_bins = [0, 585, 630, 645, 680]\n",
    "labels = [\"<$585\", \"$585-630\", \"$630-645\", \"$645-680\"]\n",
    "\n",
    "# Create a copy of the school summary since it has the \"Per Student Budget\"\n",
    "school_spending_df = per_school_summary.copy()\n",
    "\n",
    "# Use `pd.cut` to categorize spending based on the bins.\n",
    "school_spending_df[\"Spending Ranges (Per Student)\"] = pd.cut(school_spending_df[\"Per Student Budget\"], bins=spending_bins, labels=labels)\n",
    "\n",
    "school_spending_df = pd.DataFrame(school_spending_df)\n",
    "\n",
    "# Calculate mean scores per spending range. Modify groupby operations to explicitly set observed parameter.\n",
    "spending_math_scores = school_spending_df.groupby([\"Spending Ranges (Per Student)\"], observed=False)[\"Average Math Score\"].mean()\n",
    "spending_reading_scores = school_spending_df.groupby([\"Spending Ranges (Per Student)\"], observed=False)[\"Average Reading Score\"].mean()\n",
    "spending_passing_math = school_spending_df.groupby([\"Spending Ranges (Per Student)\"], observed=False)[\"Percent Passing Math\"].mean()\n",
    "spending_passing_reading = school_spending_df.groupby([\"Spending Ranges (Per Student)\"], observed=False)[\"Percent Passing Reading\"].mean()\n",
    "overall_passing_spending = school_spending_df.groupby([\"Spending Ranges (Per Student)\"], observed=False)[\"Percent Overall Passing\"].mean()\n",
    "\n",
    "# Create a new DataFrame to store the calculated averages\n",
    "spending_summary_df = pd.DataFrame({\n",
    "    \"Average Math Score\": spending_math_scores,\n",
    "    \"Average Reading Score\": spending_reading_scores,\n",
    "    \"% Passing Math\": spending_passing_math,\n",
    "    \"% Passing Reading\": spending_passing_reading,\n",
    "    \"% Overall Passing\": overall_passing_spending\n",
    "})\n",
    "\n",
    "# Display the spending summary DataFrame\n",
    "spending_summary_df"
   ]
  },
  {
   "cell_type": "code",
   "execution_count": null,
   "id": "f90d601b-19fe-43a2-9834-35c57e7bd3fd",
   "metadata": {},
   "outputs": [],
   "source": [
    "# Calculate Scores by School Size\n",
    "# Establish the bins.\n",
    "size_bins = [0, 1000, 2000, 5000]\n",
    "labels = [\"Small (<1000)\", \"Medium (1000-2000)\", \"Large (2000-5000)\"]"
   ]
  },
  {
   "cell_type": "code",
   "execution_count": null,
   "id": "8d757b41-576c-45cc-a3a2-958bc27f6610",
   "metadata": {},
   "outputs": [],
   "source": [
    "# Categorize the spending based on the bins\n",
    "# Use `pd.cut` on the \"Total Students\" column of the `per_school_summary` DataFrame.\n",
    "\n",
    "per_school_summary[\"School Size\"] =\n",
    "per_school_summary"
   ]
  },
  {
   "cell_type": "code",
   "execution_count": null,
   "id": "2542e839-79b2-4b3e-a68b-8f79c3654edf",
   "metadata": {},
   "outputs": [],
   "source": [
    "# Calculate averages for the desired columns.\n",
    "size_math_scores = per_school_summary.groupby([\"School Size\"])[\"Average Math Score\"].mean()\n",
    "size_reading_scores = per_school_summary.groupby([\"School Size\"])[\"Average Reading Score\"].mean()\n",
    "size_passing_math = per_school_summary.groupby([\"School Size\"])[\"% Passing Math\"].mean()\n",
    "size_passing_reading = per_school_summary.groupby([\"School Size\"])[\"% Passing Reading\"].mean()\n",
    "size_overall_passing = per_school_summary.groupby([\"School Size\"])[\"% Overall Passing\"].mean()"
   ]
  },
  {
   "cell_type": "code",
   "execution_count": null,
   "id": "965014b0-7caf-43d2-b713-1dda9af6608f",
   "metadata": {},
   "outputs": [],
   "source": [
    "# Create a DataFrame called `size_summary` that breaks down school performance based on school size (small, medium, or large).\n",
    "# Use the scores above to create a new DataFrame called `size_summary`\n",
    "size_summary =\n",
    "\n",
    "# Display results\n",
    "size_summary"
   ]
  },
  {
   "cell_type": "code",
   "execution_count": null,
   "id": "24ef6f4f-8b76-4a4a-9d0a-31ddcf2e4bf1",
   "metadata": {},
   "outputs": [],
   "source": [
    "# Group the per_school_summary DataFrame by \"School Type\" and average the results.\n",
    "average_math_score_by_type = per_school_summary.groupby([\"School Type\"])[\"Average Math Score\"].mean()\n",
    "average_reading_score_by_type = per_school_summary.groupby([\"School Type\"])[\"Average Reading Score\"].mean()\n",
    "average_percent_passing_math_by_type = per_school_summary.groupby([\"School Type\"])[\"% Passing Math\"].mean()\n",
    "average_percent_passing_reading_by_type = per_school_summary.groupby([\"School Type\"])[\"% Passing Reading\"].mean()\n",
    "average_percent_overall_passing_by_type = per_school_summary.groupby([\"School Type\"])[\"% Overall Passing\"].mean()"
   ]
  },
  {
   "cell_type": "code",
   "execution_count": null,
   "id": "54b393fb-627a-4f76-a269-b2b89dd7f775",
   "metadata": {},
   "outputs": [],
   "source": [
    "# Assemble the new data by type into a DataFrame called `type_summary`\n",
    "type_summary =\n",
    "\n",
    "# Display results\n",
    "type_summary"
   ]
  },
  {
   "cell_type": "code",
   "execution_count": null,
   "id": "1ba08762-2c69-4b2e-98a3-dadad77c9cea",
   "metadata": {},
   "outputs": [],
   "source": [
    "# # Apply formatting using map function? Do this later\n",
    "# district_summary[\"Total Students\"] = district_summary[\"Total Students\"].map(\"{:,}\".format)\n",
    "# district_summary[\"Total Budget\"] = district_summary[\"Total Budget\"].map(\"${:,.2f}\".format)\n",
    "# district_summary[\"Average Math Score\"] = (district_summary[\"Average Math Score\"]*100).map(\"{:.1f}%\".format)\n",
    "# district_summary[\"Average Reading Score\"] = (district_summary[\"Average Reading Score\"]*100).map(\"{:.1f}%\".format)\n",
    "\n",
    "# # Display the DataFrame\n",
    "# print(district_summary)"
   ]
  }
 ],
 "metadata": {
  "kernelspec": {
   "display_name": "Python 3 (ipykernel)",
   "language": "python",
   "name": "python3"
  },
  "language_info": {
   "codemirror_mode": {
    "name": "ipython",
    "version": 3
   },
   "file_extension": ".py",
   "mimetype": "text/x-python",
   "name": "python",
   "nbconvert_exporter": "python",
   "pygments_lexer": "ipython3",
   "version": "3.10.13"
  }
 },
 "nbformat": 4,
 "nbformat_minor": 5
}
